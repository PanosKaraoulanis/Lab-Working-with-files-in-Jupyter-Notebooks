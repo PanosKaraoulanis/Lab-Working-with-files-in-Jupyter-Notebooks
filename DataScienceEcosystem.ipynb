{
 "cells": [
  {
   "cell_type": "markdown",
   "id": "f387466a-7c6d-4890-a7b1-908f2a42989c",
   "metadata": {},
   "source": [
    "# Data Science Tools and Ecosystem"
   ]
  },
  {
   "cell_type": "markdown",
   "id": "d3e189ef-37cd-4fc2-b4f2-70b1205d4d73",
   "metadata": {},
   "source": [
    "In this notebook, Data Science Tools and Ecosystem are summarized."
   ]
  },
  {
   "cell_type": "markdown",
   "id": "b891ee0d-4602-4798-90af-1ba3f1668ffb",
   "metadata": {},
   "source": [
    "Some of the popular languages that Data Scientists use are:\n",
    "\n",
    "1. Python\n",
    "2. R\n",
    "3. SQL\n",
    "4. Java\n",
    "5. Scala"
   ]
  },
  {
   "cell_type": "markdown",
   "id": "b8c6bb1e-9121-4400-b803-3eaf74f93195",
   "metadata": {},
   "source": [
    "Some of the commonly used libraries used by Data Scientists include:\n",
    "\n",
    "1. NumPy\n",
    "2. Pandas\n",
    "3. MatPlotlib\n",
    "4. Seaborn\n",
    "5. Plotly"
   ]
  },
  {
   "cell_type": "markdown",
   "id": "ae4f7682-7f17-4adb-98d3-2910eedbd631",
   "metadata": {},
   "source": [
    "| Data Science Tools |\n",
    "|----------|\n",
    "| Jupyter |\n",
    "| TensorFlow |\n",
    "| Apache Spark |"
   ]
  },
  {
   "cell_type": "markdown",
   "id": "80b7fad8-e6e1-426a-bbdf-429db1800af3",
   "metadata": {},
   "source": [
    "### Below are a few examples of evaluating arithmetic expressions in Python"
   ]
  },
  {
   "cell_type": "code",
   "execution_count": 10,
   "id": "9ff356a1-c737-4d09-a4cb-5d467cbf4b64",
   "metadata": {},
   "outputs": [
    {
     "data": {
      "text/plain": [
       "17"
      ]
     },
     "execution_count": 10,
     "metadata": {},
     "output_type": "execute_result"
    }
   ],
   "source": [
    "#This a simple arithmetic expression to mutiply then add integers\n",
    "(3*4)+5\n"
   ]
  },
  {
   "cell_type": "code",
   "execution_count": 14,
   "id": "2b16f267-567f-481c-93ad-e43597d36ae1",
   "metadata": {},
   "outputs": [
    {
     "name": "stdout",
     "output_type": "stream",
     "text": [
      "200 minutes are  3.3  hours\n"
     ]
    }
   ],
   "source": [
    "#This will convert 200 minutes to hours by dividing by 60\n",
    "print(\"200 minutes are \",round(200/60,1),\" hours\")"
   ]
  },
  {
   "cell_type": "markdown",
   "id": "e9cffb49-6e12-4f45-9195-0162c2d69cb5",
   "metadata": {},
   "source": [
    "Objectives:\n",
    "\n",
    "+ Create a Jupyter Notebook\n",
    "+ Insert code and markdown cells\n",
    "+ List popular languages for Data Science"
   ]
  },
  {
   "cell_type": "markdown",
   "id": "69e24687-9060-462d-ab3d-f6d875db1195",
   "metadata": {},
   "source": [
    "## Author\n",
    "\n",
    "P.Karaoulanis"
   ]
  },
  {
   "cell_type": "code",
   "execution_count": null,
   "id": "e6f22521-3768-4861-b33c-7dd83552cf98",
   "metadata": {},
   "outputs": [],
   "source": []
  }
 ],
 "metadata": {
  "kernelspec": {
   "display_name": "Python 3 (ipykernel)",
   "language": "python",
   "name": "python3"
  },
  "language_info": {
   "codemirror_mode": {
    "name": "ipython",
    "version": 3
   },
   "file_extension": ".py",
   "mimetype": "text/x-python",
   "name": "python",
   "nbconvert_exporter": "python",
   "pygments_lexer": "ipython3",
   "version": "3.12.4"
  }
 },
 "nbformat": 4,
 "nbformat_minor": 5
}
